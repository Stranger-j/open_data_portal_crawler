{
 "cells": [
  {
   "cell_type": "code",
   "execution_count": 2,
   "metadata": {},
   "outputs": [],
   "source": [
    "import json\n",
    "with open('art.json') as json_file:\n",
    "        json_data = json.load(json_file)"
   ]
  },
  {
   "cell_type": "code",
   "execution_count": 4,
   "metadata": {},
   "outputs": [
    {
     "data": {
      "text/plain": [
       "[{'title': 'Information records of works produced by the National Film Board',\n",
       "  'desc1': 'The \"Information Records\" are the project application files for the production of a creative work. This data set list the Information Records of works produced by the NFB.',\n",
       "  'desc2': '',\n",
       "  'org': 'National Film Board',\n",
       "  'format': 'TXT CSV',\n",
       "  'tag': 'nfb,  film,  creative work,  information record,  business plan,',\n",
       "  'jurisdiction': 'Federal',\n",
       "  'subject': 'art'},\n",
       " {'title': 'Bibliographical records for works of National Film Board published on the Internet\\n                                \\n                                NFB.ca',\n",
       "  'desc1': \"Files of bibliographical records of NFB's works published on the web site NFB.ca or the teaching resource CAMPUS, in MARC21 format.\",\n",
       "  'desc2': '',\n",
       "  'org': 'National Film Board',\n",
       "  'format': 'TXT ZIP',\n",
       "  'tag': 'nfb,  film,  work,  interactive production,  bibliographical record,  MARC21,',\n",
       "  'jurisdiction': 'Federal',\n",
       "  'subject': 'art'},\n",
       " {'title': 'Transition 2019 – E-binder. Leslie Weir, Librarian and Archivist of Canada, August 30, 2019',\n",
       "  'desc1': 'The e-binder contains short summaries of thematic issues, trends and challenges facing Library and Archives Canada (LAC) for the new Librarian and Archivist of Canada. The e-binder also includes links to summary organizational charts for each LAC sector.',\n",
       "  'desc2': '',\n",
       "  'org': 'Library and Archives Canada',\n",
       "  'format': 'HTML',\n",
       "  'tag': 'access,  access to information and privacy (ATIP),  acquisition,  archives,  Aurora,  class action lawsuits,  conservation,  digitization,  documentary heritage,  exhibitions,  Gatineau 2,  governance,  Indigenous languages and cultures,  information management,  legal deposit,  libraries,  open government,  Online Computer Library Center (OCLC),  Ottawa Public Library,  preservation,  Prime Minister Harper Project,  publisher,  recordkeeping,  solicitor-client privilege,  Voilà,',\n",
       "  'jurisdiction': 'Federal',\n",
       "  'subject': 'art'},\n",
       " {'title': 'Report on Funded Open Access Scientific Publications',\n",
       "  'desc1': 'This report and its data are intended to provide an update on the status of scientific publications resulting from research projects funded by the Canadian Space Agency between 2011 and 2017. It identifies publications that contribute to the accessibility of science through their openness. This study was carried out in collaboration with the Observatoire des sciences et technologies and the Larkin-Kerwin Library.',\n",
       "  'desc2': '',\n",
       "  'org': 'Canadian Space Agency',\n",
       "  'format': 'DOC CSV',\n",
       "  'tag': 'CSA,  Report,  scientific publications,  openness,',\n",
       "  'jurisdiction': 'Federal',\n",
       "  'subject': 'art'},\n",
       " {'title': 'Fees Report (Library and Archives Canada)',\n",
       "  'desc1': 'This report, which is tabled under section 20 of the Service Fees Act  and section 4.2.8 of the Directive on Charging and Special Financial Authorities , contains information about the fees that LAC had the authority to charge in the 2018 to 2019 fiscal year.',\n",
       "  'desc2': '',\n",
       "  'org': 'Library and Archives Canada',\n",
       "  'format': 'PDF',\n",
       "  'tag': 'Fees Report,  Library and Archives Canada,',\n",
       "  'jurisdiction': 'Federal',\n",
       "  'subject': 'art'},\n",
       " {'title': 'Canadian Film or Video Production Tax Credit Program (CPTC) - Certified Productions',\n",
       "  'desc1': 'These lists provide the following information on productions for which a Canadian film or video production (Part A) certificate (defined in subsection 125.4(1) of the Income Tax Act) was issued: The title of the production for which the certificate was issued, and the name of the taxpayer(s) to whom the certificate was issued. Where a production is a series, note it is possible that not all episodes were certified. Approximately every six months, the list of certified productions since 2010 will be withdrawn and replaced with a new update to report the addition of newly certified productions and the removal of revoked productions.',\n",
       "  'desc2': '',\n",
       "  'org': 'Canadian Heritage',\n",
       "  'format': 'XLSX CSV XLS',\n",
       "  'tag': 'Film,  Television,  Tax Credit,  certified,  production,  audio-visual,  audiovisual,',\n",
       "  'jurisdiction': 'Federal',\n",
       "  'subject': 'art'},\n",
       " {'title': 'A Plan for Experimentation at Canadian Heritage',\n",
       "  'desc1': 'This plan sets out our approach to integrate experimentation into all elements of our department’s core business. All funding programs are pursuing experimentation to test, measure and compare the effectiveness of new approaches. All of our internal service offices are supporting the pursuit of experimentation in the department, and are adapting their processes and risk tolerances accordingly. Experimentation is a priority for employees at all level.',\n",
       "  'desc2': '',\n",
       "  'org': 'Canadian Heritage',\n",
       "  'format': 'PDF/UA',\n",
       "  'tag': 'Innovation,  Experimentation,  Canadian Heritage,',\n",
       "  'jurisdiction': 'Federal',\n",
       "  'subject': 'art'},\n",
       " {'title': 'Performance Results – Film and Video Tax Credits',\n",
       "  'desc1': \"The Canadian Audio-Visual Certification Office (CAVCO) receives applications under both the Canadian Film or Video Production Tax Credit (CPTC) and the Film or Video Production Services Tax Credit (PSTC) programs. CAVCO provides monthly updates on its processing of applications under each program. The first three tables below show the number of business days it took for files certified in a given month to progress from when an application was complete to when it was certified. CAVCO's service standard for processing applications is 120 business days.\",\n",
       "  'desc2': '',\n",
       "  'org': 'Canadian Heritage',\n",
       "  'format': 'HTML',\n",
       "  'tag': 'video,',\n",
       "  'jurisdiction': 'Federal',\n",
       "  'subject': 'art'},\n",
       " {'title': 'Canadian Heritage Inventory of Planned Research 2018-2019',\n",
       "  'desc1': 'Research is decentralized in the Department of Canadian Heritage. This document was developed by the Policy Research Group (PRG) whose mandate is to provide coordination and support to Sectors and Branches in the area of research, and optimize the dissemination and use of data and statistics within the Department. It is important to note that this list includes planned projects for 2018-2019 and is subject to change as priorities evolve. Canadian Heritage is committed to sharing its internal research products as a commitment to open research, one of the pillars of its Open Government Strategy.',\n",
       "  'desc2': '',\n",
       "  'org': 'Canadian Heritage',\n",
       "  'format': 'PDF/UA',\n",
       "  'tag': 'Research,  culture,  heritage,  sport,',\n",
       "  'jurisdiction': 'Federal',\n",
       "  'subject': 'art'},\n",
       " {'title': 'Data on funding provided in 2016-2017 and 2017-2018 by the Canada Cultural Spaces Fund, Canadian Heritage',\n",
       "  'desc1': 'The Canada Cultural Spaces Fund (CCSF) supports the improvement of physical conditions for arts, heritage, culture and creative innovation. The Fund supports renovation and construction projects, the acquisition of specialized equipment and feasibility studies related to cultural spaces.',\n",
       "  'desc2': '',\n",
       "  'org': 'Canadian Heritage',\n",
       "  'format': 'CSV',\n",
       "  'tag': 'Canada Cultural Spaces Fund,  CCSF,  Renovation,  Construction,  Specialized equipment,  Feasibility study,  Cultural infrastructure,  Heritage facilities,  Cultural facilities,  Arts spaces,  Heritage spaces,  Arts facilities,  Funding culture,  Funding arts,  Professional art funding,  Professional heritage funding,  Professional artistic space,  Professional heritage space,  Professional cultural facility,',\n",
       "  'jurisdiction': 'Federal',\n",
       "  'subject': 'art'},\n",
       " {'title': 'Data on funding provided in 2016-2017 and 2017-2018 by the Canada Arts Presentation Fund, Canadian Heritage',\n",
       "  'desc1': 'The Canada Arts Presentation Fund (CAPF) provides financial assistance to organizations that professionally present arts festivals or performing arts series (arts presenters) and organizations that offer support to arts presenters.',\n",
       "  'desc2': '',\n",
       "  'org': 'Canadian Heritage',\n",
       "  'format': 'CSV',\n",
       "  'tag': 'Canada Arts Presentation Fund,  CAPF,  Arts festivals,  Performing arts series,  Arts festival presenters,  Art presentation,  Professional arts festivals,  Performing arts series presenters,  Presenter support organizations,  Promote Canadian artists,  Funding culture,  Funding arts,  Professional arts funding,  Professional artistic experiences,',\n",
       "  'jurisdiction': 'Federal',\n",
       "  'subject': 'art'},\n",
       " {'title': 'National Film Board completed productions by year',\n",
       "  'desc1': \"Information on all NFB's production projects completed during a year.\",\n",
       "  'desc2': '',\n",
       "  'org': 'National Film Board',\n",
       "  'format': 'CSV TXT',\n",
       "  'tag': 'nfb,  completed production,  film,  work,  producer,  director,  digital creator,  studio,  interactive production,',\n",
       "  'jurisdiction': 'Federal',\n",
       "  'subject': 'art'},\n",
       " {'title': 'Canadian Program Certification',\n",
       "  'desc1': 'Canadian Program Certification helps independent Canadian program producers to obtain Canadian certification for TV productions that use mainly Canadian crews and talents.',\n",
       "  'desc2': '',\n",
       "  'org': 'Canadian Radio-television and Telecommunications Commission',\n",
       "  'format': 'CSV',\n",
       "  'tag': 'Canadian Program Certification,  CRTC,  Programs,  Canadian Conventional Television,  Pay Specialty,  TV,  logs,',\n",
       "  'jurisdiction': 'Federal',\n",
       "  'subject': 'art'},\n",
       " {'title': 'Key Funding Data on Canada Council for the Arts Grant Recipients',\n",
       "  'desc1': 'Key data on Canada Council funding offers a complete list of grant recipients from 2013-14 to 2017-18, including detailed information by program, field of practice, region (for example community and federal riding) and much more. In addition to grant figures, you can find information on Canada Council Art Bank purchases, Canadian Commission for UNESCO (United Nations Educational, Scientific and Cultural Organization) and Special Funds (endowed prizes, Killam Research Fellowships and Prizes and the Japan-Canada Fund).',\n",
       "  'desc2': '',\n",
       "  'org': 'Canada Council for the Arts',\n",
       "  'format': 'PDF CSV',\n",
       "  'tag': 'Open data,  arts,  funding,  grants,  artists,  groups,  arts organizations,',\n",
       "  'jurisdiction': 'Federal',\n",
       "  'subject': 'art'},\n",
       " {'title': 'National Film Board video content published on-line',\n",
       "  'desc1': \"List of all titles published on the Internet for streaming by NFB. Some titles are published on the Internet but can't be viewed because of rights restrictions.\",\n",
       "  'desc2': '',\n",
       "  'org': 'National Film Board',\n",
       "  'format': 'TXT CSV',\n",
       "  'tag': 'nfb,  film,  work,  online,  streaming,',\n",
       "  'jurisdiction': 'Federal',\n",
       "  'subject': 'art'},\n",
       " {'title': 'Works of the National Film Board presented to festivals and awards won',\n",
       "  'desc1': \"List of National Film Board's works presented to festivals and awards won.\",\n",
       "  'desc2': '',\n",
       "  'org': 'National Film Board',\n",
       "  'format': 'TXT CSV',\n",
       "  'tag': 'nfb,  film,  work,  festival,  award,',\n",
       "  'jurisdiction': 'Federal',\n",
       "  'subject': 'art'},\n",
       " {'title': 'Review of the Canadian Feature Film Industry',\n",
       "  'desc1': 'Appearance before the House of Commons Standing Committee on Canadian Heritage: Review of the Canadian Feature Film Industry Presented by Claude Joli-Coeur, Government Film Commissioner and Chairperson of the NFB (National Film Board of Canada), Monday, March 23, 2015',\n",
       "  'desc2': '',\n",
       "  'org': 'National Film Board',\n",
       "  'format': 'TXT ZIP',\n",
       "  'tag': 'nfb,  film,  feature film,  canadian industry,',\n",
       "  'jurisdiction': 'Federal',\n",
       "  'subject': 'art'},\n",
       " {'title': 'National Film Board - Emerging And Digital Media: Opportunities And Challenges',\n",
       "  'desc1': 'Presentation to the House of Commons Standing Committee on Canadian Heritage, April 29, 2010.',\n",
       "  'desc2': '',\n",
       "  'org': 'National Film Board',\n",
       "  'format': 'TXT ZIP',\n",
       "  'tag': 'presentation,  digital,  media,  opportunities,  challenge,',\n",
       "  'jurisdiction': 'Federal',\n",
       "  'subject': 'art'},\n",
       " {'title': 'National Film Board - Study concerning the 150th anniversary of Canada in 2017',\n",
       "  'desc1': 'Presentation to the House of Commons Standing Committee on Canadian Heritage, December 6, 2011.',\n",
       "  'desc2': '',\n",
       "  'org': 'National Film Board',\n",
       "  'format': 'TXT ZIP',\n",
       "  'tag': 'nfb,  Canada 2017,  150th anniversary,',\n",
       "  'jurisdiction': 'Federal',\n",
       "  'subject': 'art'},\n",
       " {'title': 'Departmental Performance Reports',\n",
       "  'desc1': 'Annual reports on National Film Board activities and projects, by fiscal year.',\n",
       "  'desc2': '',\n",
       "  'org': 'National Film Board',\n",
       "  'format': 'TXT ZIP',\n",
       "  'tag': 'NFB,  report,  performance,  budget,  expense,  audiovisual,',\n",
       "  'jurisdiction': 'Federal',\n",
       "  'subject': 'art'},\n",
       " {'title': 'National Film Board - Deficit Reduction Action Plan',\n",
       "  'desc1': 'Table of planned budgetary reduction actions plan from the National Film Board, as published in 2012-2013.',\n",
       "  'desc2': '',\n",
       "  'org': 'National Film Board',\n",
       "  'format': 'TXT ZIP',\n",
       "  'tag': 'nfb,  plan,  reduction,  saving,',\n",
       "  'jurisdiction': 'Federal',\n",
       "  'subject': 'art'},\n",
       " {'title': 'National Film Board (NFB) annual review on official languages',\n",
       "  'desc1': \"Review of the implementation by the National Film Board (NFB) of Article 41 of the Official Languages Act. These documents contain qualitative data on the implementation of NFB's projects for development of official language minority communities (OLMC) and the promotion of French and English in Canadian society.\",\n",
       "  'desc2': '',\n",
       "  'org': 'National Film Board',\n",
       "  'format': 'TXT ZIP',\n",
       "  'tag': 'nfb,  review,  official languages,  French,  English,',\n",
       "  'jurisdiction': 'Federal',\n",
       "  'subject': 'art'},\n",
       " {'title': 'Art Bank Collection',\n",
       "  'desc1': \"This dataset contains the art works in the Canada Council Art Bank collection. For 40 years, the Art Bank has been collecting work by the best Canadian artists of our times. It has become the world's largest collection of contemporary Canadian art with over 17,000 paintings, prints, photographs and sculptures by some 3,000 artists. More than one-third of the collection is on view in public spaces and private organizations across Canada, through art rentals, loans, and outreach programs.\",\n",
       "  'desc2': '',\n",
       "  'org': 'Canada Council for the Arts',\n",
       "  'format': 'XML',\n",
       "  'tag': 'Art Bank,  art bank,  painting,  installation,  sculpture,  media,  work on paper,  fibre,  photograph,',\n",
       "  'jurisdiction': 'Federal',\n",
       "  'subject': 'art'},\n",
       " {'title': 'Early Images of Canada: Illustrations from Rare Books',\n",
       "  'desc1': \"550 searchable images, mostly engravings, from Library and Archives Canada's Rare Book Collection. All of the images are taken from books, often exploration or missionary narratives, published before the year 1800. These particular images have been selected because they depict geography that is now part of Canada or events that are significant in Canadian history.\",\n",
       "  'desc2': '',\n",
       "  'org': 'Library and Archives Canada',\n",
       "  'format': 'CSV',\n",
       "  'tag': 'images,  1800,  engravings,  rare books,  exploration,',\n",
       "  'jurisdiction': 'Federal',\n",
       "  'subject': 'art'},\n",
       " {'title': 'Library catalogue for Communication Security Establishment',\n",
       "  'desc1': 'The Communications Security Establishment library contains a large number of books covering a wide range of topics.  This dataset lists the books in the library catalogue.',\n",
       "  'desc2': '',\n",
       "  'org': 'Communications Security Establishment Canada',\n",
       "  'format': 'CSV',\n",
       "  'tag': 'Books,  Library,  Catalogue,',\n",
       "  'jurisdiction': 'Federal',\n",
       "  'subject': 'art'}]"
      ]
     },
     "execution_count": 4,
     "metadata": {},
     "output_type": "execute_result"
    }
   ],
   "source": [
    "json_data"
   ]
  },
  {
   "cell_type": "code",
   "execution_count": 26,
   "metadata": {},
   "outputs": [],
   "source": [
    "test1 = json_data[0]['format']\n",
    "test2 = json_data[1]['format']"
   ]
  },
  {
   "cell_type": "code",
   "execution_count": null,
   "metadata": {},
   "outputs": [],
   "source": []
  },
  {
   "cell_type": "code",
   "execution_count": null,
   "metadata": {},
   "outputs": [],
   "source": []
  },
  {
   "cell_type": "code",
   "execution_count": 28,
   "metadata": {},
   "outputs": [],
   "source": [
    "import collections\n",
    "\n",
    "test_list1 = test1.split()\n",
    "test_list2 = test2.split()\n",
    "result= collections.Counter(test_list)"
   ]
  },
  {
   "cell_type": "code",
   "execution_count": 48,
   "metadata": {},
   "outputs": [],
   "source": [
    "test_list1.extend(test_list2)"
   ]
  },
  {
   "cell_type": "code",
   "execution_count": 60,
   "metadata": {},
   "outputs": [
    {
     "data": {
      "text/plain": [
       "['TXT', 'CSV', 'TXT', 'ZIP', 'TXT', 'ZIP']"
      ]
     },
     "execution_count": 60,
     "metadata": {},
     "output_type": "execute_result"
    }
   ],
   "source": [
    "test_list1"
   ]
  },
  {
   "cell_type": "code",
   "execution_count": 61,
   "metadata": {},
   "outputs": [
    {
     "data": {
      "text/plain": [
       "['TXT', 'ZIP']"
      ]
     },
     "execution_count": 61,
     "metadata": {},
     "output_type": "execute_result"
    }
   ],
   "source": [
    "test_list2"
   ]
  },
  {
   "cell_type": "code",
   "execution_count": null,
   "metadata": {},
   "outputs": [],
   "source": []
  },
  {
   "cell_type": "code",
   "execution_count": 58,
   "metadata": {},
   "outputs": [
    {
     "data": {
      "text/plain": [
       "['TXT', 'CSV', 'TXT', 'ZIP', 'TXT', 'ZIP']"
      ]
     },
     "execution_count": 58,
     "metadata": {},
     "output_type": "execute_result"
    }
   ],
   "source": [
    "test_list1"
   ]
  },
  {
   "cell_type": "code",
   "execution_count": 59,
   "metadata": {},
   "outputs": [
    {
     "data": {
      "text/plain": [
       "Counter({'TXT': 1, 'CSV': 1})"
      ]
     },
     "execution_count": 59,
     "metadata": {},
     "output_type": "execute_result"
    }
   ],
   "source": [
    "result"
   ]
  },
  {
   "cell_type": "code",
   "execution_count": null,
   "metadata": {},
   "outputs": [],
   "source": []
  },
  {
   "cell_type": "code",
   "execution_count": null,
   "metadata": {},
   "outputs": [],
   "source": []
  },
  {
   "cell_type": "code",
   "execution_count": 67,
   "metadata": {},
   "outputs": [],
   "source": [
    "sum =[]\n",
    "for i in json_data:\n",
    "#    format = json_data[i]['format']\n",
    "#    temp[i] = format[i].split()\n",
    "#    sum.extend(temp[i])\n",
    " #   print(sum)\n",
    "    temp = i['format'].split()\n",
    "    sum = sum + temp"
   ]
  },
  {
   "cell_type": "code",
   "execution_count": 97,
   "metadata": {},
   "outputs": [
    {
     "data": {
      "text/plain": [
       "[('CSV', 12),\n",
       " ('TXT', 11),\n",
       " ('ZIP', 7),\n",
       " ('HTML', 2),\n",
       " ('PDF', 2),\n",
       " ('PDF/UA', 2),\n",
       " ('DOC', 1),\n",
       " ('XLSX', 1),\n",
       " ('XLS', 1),\n",
       " ('XML', 1)]"
      ]
     },
     "execution_count": 97,
     "metadata": {},
     "output_type": "execute_result"
    }
   ],
   "source": [
    "import collections\n",
    "import json\n",
    "import operator\n",
    "\n",
    "with open('art.json') as json_file:\n",
    "        json_data = json.load(json_file)\n",
    "\n",
    "sum_format =[]\n",
    "sum_tag =[]\n",
    "sum_org =[]\n",
    "sum_jur =[]\n",
    "\n",
    "for i in json_data:\n",
    "#    format = json_data[i]['format']\n",
    "#    temp[i] = format[i].split()\n",
    "#    sum.extend(temp[i])\n",
    " #   print(sum)\n",
    "    temp = i['format'].split()    \n",
    "    sum_format = sum_format + temp\n",
    "    \n",
    "    temp2 = i['tag'].replace(\" \",\"\")\n",
    "    temp2 = temp2.split(\",\")\n",
    "    sum_tag = sum_tag + temp2\n",
    "\n",
    "    temp3 = i['org'].replace(\" \",\"\")\n",
    "    temp3 = temp3.split()\n",
    "    sum_org = sum_org + temp3\n",
    "    \n",
    "    temp4 = i['jurisdiction'].split()    \n",
    "    sum_jur = sum_jur + temp4\n",
    "    \n",
    "result_format = collections.Counter(sum_format)\n",
    "result_tag = collections.Counter(sum_tag)\n",
    "result_org = collections.Counter(sum_org)\n",
    "result_jur = collections.Counter(sum_jur)\n",
    "\n",
    "result_format = sorted(result_format.items(), key=operator.itemgetter(1), reverse =True)\n",
    "result_tag = sorted(result_tag.items(), key=operator.itemgetter(1), reverse =True)\n",
    "result_org = sorted(result_org.items(), key=operator.itemgetter(1), reverse =True)\n",
    "result_jur = sorted(result_jur.items(), key=operator.itemgetter(1), reverse =True)\n",
    "\n",
    "result_format\n",
    "#result_tag\n",
    "#result_org\n",
    "#result_jur"
   ]
  },
  {
   "cell_type": "code",
   "execution_count": null,
   "metadata": {},
   "outputs": [],
   "source": []
  },
  {
   "cell_type": "code",
   "execution_count": null,
   "metadata": {},
   "outputs": [],
   "source": []
  },
  {
   "cell_type": "code",
   "execution_count": null,
   "metadata": {},
   "outputs": [],
   "source": []
  },
  {
   "cell_type": "code",
   "execution_count": null,
   "metadata": {},
   "outputs": [],
   "source": []
  },
  {
   "cell_type": "code",
   "execution_count": null,
   "metadata": {},
   "outputs": [],
   "source": []
  },
  {
   "cell_type": "code",
   "execution_count": null,
   "metadata": {},
   "outputs": [],
   "source": []
  },
  {
   "cell_type": "code",
   "execution_count": null,
   "metadata": {},
   "outputs": [],
   "source": []
  },
  {
   "cell_type": "code",
   "execution_count": null,
   "metadata": {},
   "outputs": [],
   "source": []
  },
  {
   "cell_type": "code",
   "execution_count": null,
   "metadata": {},
   "outputs": [],
   "source": []
  },
  {
   "cell_type": "code",
   "execution_count": null,
   "metadata": {},
   "outputs": [],
   "source": []
  },
  {
   "cell_type": "code",
   "execution_count": null,
   "metadata": {},
   "outputs": [],
   "source": []
  },
  {
   "cell_type": "code",
   "execution_count": null,
   "metadata": {},
   "outputs": [],
   "source": []
  },
  {
   "cell_type": "code",
   "execution_count": null,
   "metadata": {},
   "outputs": [],
   "source": []
  },
  {
   "cell_type": "code",
   "execution_count": null,
   "metadata": {},
   "outputs": [],
   "source": []
  },
  {
   "cell_type": "code",
   "execution_count": null,
   "metadata": {},
   "outputs": [],
   "source": []
  },
  {
   "cell_type": "code",
   "execution_count": null,
   "metadata": {},
   "outputs": [],
   "source": []
  },
  {
   "cell_type": "code",
   "execution_count": null,
   "metadata": {},
   "outputs": [],
   "source": []
  },
  {
   "cell_type": "code",
   "execution_count": null,
   "metadata": {},
   "outputs": [],
   "source": []
  },
  {
   "cell_type": "code",
   "execution_count": null,
   "metadata": {},
   "outputs": [],
   "source": []
  },
  {
   "cell_type": "code",
   "execution_count": null,
   "metadata": {},
   "outputs": [],
   "source": []
  },
  {
   "cell_type": "code",
   "execution_count": null,
   "metadata": {},
   "outputs": [],
   "source": []
  },
  {
   "cell_type": "code",
   "execution_count": null,
   "metadata": {},
   "outputs": [],
   "source": []
  },
  {
   "cell_type": "code",
   "execution_count": null,
   "metadata": {},
   "outputs": [],
   "source": []
  },
  {
   "cell_type": "code",
   "execution_count": null,
   "metadata": {},
   "outputs": [],
   "source": []
  },
  {
   "cell_type": "code",
   "execution_count": null,
   "metadata": {},
   "outputs": [],
   "source": []
  },
  {
   "cell_type": "code",
   "execution_count": null,
   "metadata": {},
   "outputs": [],
   "source": []
  },
  {
   "cell_type": "code",
   "execution_count": null,
   "metadata": {},
   "outputs": [],
   "source": []
  },
  {
   "cell_type": "code",
   "execution_count": null,
   "metadata": {},
   "outputs": [],
   "source": []
  },
  {
   "cell_type": "code",
   "execution_count": null,
   "metadata": {},
   "outputs": [],
   "source": []
  },
  {
   "cell_type": "code",
   "execution_count": null,
   "metadata": {},
   "outputs": [],
   "source": []
  },
  {
   "cell_type": "code",
   "execution_count": null,
   "metadata": {},
   "outputs": [],
   "source": []
  },
  {
   "cell_type": "code",
   "execution_count": null,
   "metadata": {},
   "outputs": [],
   "source": []
  },
  {
   "cell_type": "code",
   "execution_count": null,
   "metadata": {},
   "outputs": [],
   "source": []
  },
  {
   "cell_type": "code",
   "execution_count": null,
   "metadata": {},
   "outputs": [],
   "source": []
  },
  {
   "cell_type": "code",
   "execution_count": null,
   "metadata": {},
   "outputs": [],
   "source": []
  },
  {
   "cell_type": "code",
   "execution_count": null,
   "metadata": {},
   "outputs": [],
   "source": []
  },
  {
   "cell_type": "code",
   "execution_count": 20,
   "metadata": {},
   "outputs": [
    {
     "data": {
      "text/plain": [
       "Counter({'TXT': 1, 'CSV': 1})"
      ]
     },
     "execution_count": 20,
     "metadata": {},
     "output_type": "execute_result"
    }
   ],
   "source": [
    "result"
   ]
  },
  {
   "cell_type": "code",
   "execution_count": 21,
   "metadata": {},
   "outputs": [
    {
     "data": {
      "text/plain": [
       "['TXT', 'CSV']"
      ]
     },
     "execution_count": 21,
     "metadata": {},
     "output_type": "execute_result"
    }
   ],
   "source": [
    "list(result.keys())"
   ]
  },
  {
   "cell_type": "code",
   "execution_count": 24,
   "metadata": {},
   "outputs": [
    {
     "data": {
      "text/plain": [
       "list"
      ]
     },
     "execution_count": 24,
     "metadata": {},
     "output_type": "execute_result"
    }
   ],
   "source": [
    "type(test_list)"
   ]
  },
  {
   "cell_type": "code",
   "execution_count": null,
   "metadata": {},
   "outputs": [],
   "source": []
  },
  {
   "cell_type": "code",
   "execution_count": null,
   "metadata": {},
   "outputs": [],
   "source": []
  },
  {
   "cell_type": "code",
   "execution_count": null,
   "metadata": {},
   "outputs": [],
   "source": []
  },
  {
   "cell_type": "code",
   "execution_count": null,
   "metadata": {},
   "outputs": [],
   "source": []
  },
  {
   "cell_type": "code",
   "execution_count": null,
   "metadata": {},
   "outputs": [],
   "source": []
  },
  {
   "cell_type": "code",
   "execution_count": 16,
   "metadata": {},
   "outputs": [
    {
     "ename": "NameError",
     "evalue": "name 'plot' is not defined",
     "output_type": "error",
     "traceback": [
      "\u001b[0;31m---------------------------------------------------------------------------\u001b[0m",
      "\u001b[0;31mNameError\u001b[0m                                 Traceback (most recent call last)",
      "\u001b[0;32m<ipython-input-16-8f6dff49ddce>\u001b[0m in \u001b[0;36m<module>\u001b[0;34m\u001b[0m\n\u001b[0;32m----> 1\u001b[0;31m \u001b[0mplot\u001b[0m\u001b[0;34m(\u001b[0m\u001b[0mcollections\u001b[0m\u001b[0;34m.\u001b[0m\u001b[0mCounter\u001b[0m\u001b[0;34m(\u001b[0m\u001b[0mtest_list\u001b[0m\u001b[0;34m)\u001b[0m\u001b[0;34m)\u001b[0m\u001b[0;34m\u001b[0m\u001b[0;34m\u001b[0m\u001b[0m\n\u001b[0m",
      "\u001b[0;31mNameError\u001b[0m: name 'plot' is not defined"
     ]
    }
   ],
   "source": [
    "plot(collections.Counter(test_list))"
   ]
  },
  {
   "cell_type": "code",
   "execution_count": null,
   "metadata": {},
   "outputs": [],
   "source": []
  },
  {
   "cell_type": "code",
   "execution_count": null,
   "metadata": {},
   "outputs": [],
   "source": []
  },
  {
   "cell_type": "code",
   "execution_count": null,
   "metadata": {},
   "outputs": [],
   "source": []
  },
  {
   "cell_type": "code",
   "execution_count": null,
   "metadata": {},
   "outputs": [],
   "source": []
  },
  {
   "cell_type": "code",
   "execution_count": null,
   "metadata": {},
   "outputs": [],
   "source": []
  },
  {
   "cell_type": "code",
   "execution_count": null,
   "metadata": {},
   "outputs": [],
   "source": []
  },
  {
   "cell_type": "code",
   "execution_count": null,
   "metadata": {},
   "outputs": [],
   "source": []
  },
  {
   "cell_type": "code",
   "execution_count": null,
   "metadata": {},
   "outputs": [],
   "source": []
  },
  {
   "cell_type": "code",
   "execution_count": null,
   "metadata": {},
   "outputs": [],
   "source": []
  },
  {
   "cell_type": "code",
   "execution_count": null,
   "metadata": {},
   "outputs": [],
   "source": []
  }
 ],
 "metadata": {
  "kernelspec": {
   "display_name": "Python 3",
   "language": "python",
   "name": "python3"
  },
  "language_info": {
   "codemirror_mode": {
    "name": "ipython",
    "version": 3
   },
   "file_extension": ".py",
   "mimetype": "text/x-python",
   "name": "python",
   "nbconvert_exporter": "python",
   "pygments_lexer": "ipython3",
   "version": "3.7.4"
  }
 },
 "nbformat": 4,
 "nbformat_minor": 2
}
