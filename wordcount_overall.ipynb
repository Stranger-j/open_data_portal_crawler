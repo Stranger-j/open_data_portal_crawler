{
 "cells": [
  {
   "cell_type": "code",
   "execution_count": 24,
   "metadata": {},
   "outputs": [
    {
     "data": {
      "text/plain": [
       "[('Dataset', 82042),\n",
       " ('Guide', 7816),\n",
       " ('WebService', 906),\n",
       " ('Website', 801),\n",
       " ('Terminology', 383),\n",
       " ('Application', 290),\n",
       " ('Publication', 277),\n",
       " ('Assessment-Audit', 117),\n",
       " ('Report', 97),\n",
       " ('Report-AnnualReport', 49),\n",
       " ('API', 44),\n",
       " ('Plan-StrategicPlan', 42),\n",
       " ('Specification', 40),\n",
       " ('BriefingMaterial-Backgrounder', 38),\n",
       " ('Policy', 35),\n",
       " ('BriefingMaterial', 17),\n",
       " ('Q&A-FAQ', 16),\n",
       " ('Plan', 15),\n",
       " ('FactSheet', 13),\n",
       " ('FinancialMaterial-FinancialStatement', 13),\n",
       " ('Presentation', 9),\n",
       " ('PromotionalMaterial', 9),\n",
       " ('Tool', 7),\n",
       " ('FinancialMaterial', 6),\n",
       " ('Statistics', 6),\n",
       " ('Abstract', 5),\n",
       " ('Article', 4),\n",
       " ('ResourceList', 4),\n",
       " ('EducationalMaterial', 3),\n",
       " ('FinancialMaterial-Budget', 3),\n",
       " ('Submission', 3),\n",
       " ('Assessment', 2),\n",
       " ('Framework', 2),\n",
       " ('Plan-BusinessPlan', 2),\n",
       " ('ProjectMaterial', 2),\n",
       " ('Report-InterimReport', 2),\n",
       " ('Survey', 2),\n",
       " ('Consultation', 1),\n",
       " ('ContactInformation', 1),\n",
       " ('Correspondence-MinisterialCorrespondence', 1),\n",
       " ('MeetingMaterial-Minutes', 1),\n",
       " ('MultimediaResource', 1),\n",
       " ('ProjectMaterial-ProjectCharter', 1),\n",
       " ('Transcript', 1)]"
      ]
     },
     "execution_count": 24,
     "metadata": {},
     "output_type": "execute_result"
    }
   ],
   "source": [
    "import collections\n",
    "import json\n",
    "import operator\n",
    "import numpy as np \n",
    "import matplotlib.pyplot as plt\n",
    "\n",
    "with open('overall.json') as json_file:\n",
    "        json_data = json.load(json_file)\n",
    "\n",
    "# Format\n",
    "#result_format = json_data['Formats']\n",
    "#result_format = sorted(result_format.items(), key=operator.itemgetter(1), reverse =True)\n",
    "#result_format\n",
    "\n",
    "# Organization\n",
    "#result_org = json_data['Organization']\n",
    "#result_org = sorted(result_org.items(), key=operator.itemgetter(1), reverse =True)\n",
    "#result_org\n",
    "\n",
    "# Jurisdiction\n",
    "#result_jur = json_data['Jurisdiction']\n",
    "#result_jur = sorted(result_jur.items(), key=operator.itemgetter(1), reverse =True)\n",
    "#result_jur\n",
    "\n",
    "# Keyword\n",
    "#result_kword = json_data['Keywords']\n",
    "#result_kword = sorted(result_kword.items(), key=operator.itemgetter(1), reverse =True)\n",
    "#result_kword\n",
    "\n",
    "# Collection Type\n",
    "#result_ctype = json_data['Collection Type']\n",
    "#result_ctype = sorted(result_ctype.items(), key=operator.itemgetter(1), reverse =True)\n",
    "#result_ctype\n",
    "\n",
    "# Resource Types\n",
    "#result_rtype = json_data['Resource Types']\n",
    "#result_rtype = sorted(result_rtype.items(), key=operator.itemgetter(1), reverse =True)\n",
    "result_rtype\n",
    "\n",
    "# Update Frequency\n",
    "#result_upfre = json_data['Update Frequency']\n",
    "#result_upfre = sorted(result_upfre.items(), key=operator.itemgetter(1), reverse =True)\n",
    "#result_upfre\n",
    "\n",
    "\n"
   ]
  },
  {
   "cell_type": "code",
   "execution_count": null,
   "metadata": {},
   "outputs": [],
   "source": []
  },
  {
   "cell_type": "code",
   "execution_count": null,
   "metadata": {},
   "outputs": [],
   "source": []
  },
  {
   "cell_type": "code",
   "execution_count": null,
   "metadata": {},
   "outputs": [],
   "source": []
  },
  {
   "cell_type": "code",
   "execution_count": 21,
   "metadata": {},
   "outputs": [
    {
     "data": {
      "text/plain": [
       "[('other', 68804),\n",
       " ('HTML', 10518),\n",
       " ('XML', 8613),\n",
       " ('CSV', 8138),\n",
       " ('SHP', 4561),\n",
       " ('PDF', 3066),\n",
       " ('EDI', 1881),\n",
       " ('ZIP', 1372),\n",
       " ('JP2', 1227),\n",
       " ('ESRIREST', 777),\n",
       " ('JPG', 689),\n",
       " ('WMS', 623),\n",
       " ('XLSX', 428),\n",
       " ('FGDB/GDB', 420),\n",
       " ('GML', 383),\n",
       " ('TXT', 380),\n",
       " ('XLS', 317),\n",
       " ('SEGY', 253),\n",
       " ('GeoTIF', 188),\n",
       " ('JSON', 134),\n",
       " ('KML', 113),\n",
       " ('TIFF', 103),\n",
       " ('DOCX', 94),\n",
       " ('GIF', 93),\n",
       " ('CDR', 91),\n",
       " ('MXD', 90),\n",
       " ('KMZ', 82),\n",
       " ('WFS', 69),\n",
       " ('DOC', 62),\n",
       " ('ECW', 61),\n",
       " ('ASCIIGrid', 50),\n",
       " ('NetCDF', 28),\n",
       " ('GEOJSON', 27),\n",
       " ('RTF', 18),\n",
       " ('PDF/A-1', 9),\n",
       " ('PDF/UA', 9),\n",
       " ('PNG', 7),\n",
       " ('TAB', 7),\n",
       " ('GRIB2', 6),\n",
       " ('LAS', 5),\n",
       " ('E00', 4),\n",
       " ('ODT', 4),\n",
       " ('PPTX', 3),\n",
       " ('DBF', 2),\n",
       " ('DXF', 2),\n",
       " ('GPKG', 2),\n",
       " ('HDF', 2),\n",
       " ('AVI', 1),\n",
       " ('GeoPDF', 1),\n",
       " ('JAR', 1),\n",
       " ('JSONL', 1),\n",
       " ('RDF', 1),\n",
       " ('RSS', 1),\n",
       " ('SQL', 1),\n",
       " ('VPF', 1),\n",
       " ('WMTS', 1),\n",
       " ('XLSM', 1)]"
      ]
     },
     "execution_count": 21,
     "metadata": {},
     "output_type": "execute_result"
    }
   ],
   "source": [
    "result_format"
   ]
  },
  {
   "cell_type": "code",
   "execution_count": null,
   "metadata": {},
   "outputs": [],
   "source": []
  },
  {
   "cell_type": "code",
   "execution_count": 19,
   "metadata": {},
   "outputs": [
    {
     "data": {
      "text/plain": [
       "[('Geospatial', 69416),\n",
       " ('Non-Spatial', 9720),\n",
       " ('FederatedOpenData', 2022),\n",
       " ('OpenMaps', 1147),\n",
       " ('Publications', 986),\n",
       " ('ReportsTabledinParliament', 45),\n",
       " ('Opencode', 11),\n",
       " ('Briefingpackagesforneworincomingministers', 5),\n",
       " ('Briefingpackagesforneworincomingdeputyheads', 4),\n",
       " ('API', 1),\n",
       " ('AlgorithmicImpactAssessment', 1),\n",
       " ('Application', 1)]"
      ]
     },
     "execution_count": 19,
     "metadata": {},
     "output_type": "execute_result"
    }
   ],
   "source": [
    "result_ctype"
   ]
  },
  {
   "cell_type": "code",
   "execution_count": null,
   "metadata": {},
   "outputs": [],
   "source": []
  },
  {
   "cell_type": "code",
   "execution_count": null,
   "metadata": {},
   "outputs": [],
   "source": []
  },
  {
   "cell_type": "code",
   "execution_count": null,
   "metadata": {},
   "outputs": [],
   "source": []
  },
  {
   "cell_type": "code",
   "execution_count": null,
   "metadata": {},
   "outputs": [],
   "source": []
  },
  {
   "cell_type": "code",
   "execution_count": null,
   "metadata": {},
   "outputs": [],
   "source": []
  },
  {
   "cell_type": "code",
   "execution_count": null,
   "metadata": {},
   "outputs": [],
   "source": []
  },
  {
   "cell_type": "code",
   "execution_count": null,
   "metadata": {},
   "outputs": [],
   "source": []
  },
  {
   "cell_type": "code",
   "execution_count": null,
   "metadata": {},
   "outputs": [],
   "source": []
  },
  {
   "cell_type": "code",
   "execution_count": null,
   "metadata": {},
   "outputs": [],
   "source": []
  },
  {
   "cell_type": "code",
   "execution_count": null,
   "metadata": {},
   "outputs": [],
   "source": []
  },
  {
   "cell_type": "code",
   "execution_count": null,
   "metadata": {},
   "outputs": [],
   "source": []
  },
  {
   "cell_type": "code",
   "execution_count": null,
   "metadata": {},
   "outputs": [],
   "source": []
  },
  {
   "cell_type": "code",
   "execution_count": null,
   "metadata": {},
   "outputs": [],
   "source": []
  },
  {
   "cell_type": "code",
   "execution_count": null,
   "metadata": {},
   "outputs": [],
   "source": []
  },
  {
   "cell_type": "code",
   "execution_count": null,
   "metadata": {},
   "outputs": [],
   "source": []
  },
  {
   "cell_type": "code",
   "execution_count": null,
   "metadata": {},
   "outputs": [],
   "source": []
  },
  {
   "cell_type": "code",
   "execution_count": null,
   "metadata": {},
   "outputs": [],
   "source": []
  },
  {
   "cell_type": "code",
   "execution_count": null,
   "metadata": {},
   "outputs": [],
   "source": []
  }
 ],
 "metadata": {
  "kernelspec": {
   "display_name": "Python 3",
   "language": "python",
   "name": "python3"
  },
  "language_info": {
   "codemirror_mode": {
    "name": "ipython",
    "version": 3
   },
   "file_extension": ".py",
   "mimetype": "text/x-python",
   "name": "python",
   "nbconvert_exporter": "python",
   "pygments_lexer": "ipython3",
   "version": "3.7.4"
  }
 },
 "nbformat": 4,
 "nbformat_minor": 2
}
